{
 "cells": [
  {
   "cell_type": "markdown",
   "metadata": {},
   "source": [
    "# Clasificaión Manual de flores"
   ]
  },
  {
   "cell_type": "markdown",
   "metadata": {},
   "source": [
    "Mariana Michell Flores Monroy"
   ]
  },
  {
   "cell_type": "markdown",
   "metadata": {},
   "source": [
    "En el clasificador anterior, usabamos un modelo de red neuronal que ya venía entrenado, ya sea resnet18 o resnet34. Pero esta vez vamos a implementar un modelo de red neuronal manualmente."
   ]
  },
  {
   "cell_type": "code",
   "execution_count": 1,
   "metadata": {},
   "outputs": [],
   "source": [
    "%matplotlib inline\n",
    "%reload_ext autoreload\n",
    "%autoreload 2"
   ]
  },
  {
   "cell_type": "markdown",
   "metadata": {},
   "source": [
    "En este caso vamos a importar más bibliotecas en comparación con ejercicios anteriores. Ahora vamos a utilizar torch"
   ]
  },
  {
   "cell_type": "code",
   "execution_count": 2,
   "metadata": {},
   "outputs": [],
   "source": [
    "import fastai as fai\n",
    "import fastai.vision as fv\n",
    "import torch\n",
    "import torch.nn as nn\n",
    "import torch.nn.functional as F\n",
    "import gc #sirve para liberar la memoria\n",
    "from pathlib import Path"
   ]
  },
  {
   "cell_type": "markdown",
   "metadata": {},
   "source": [
    "Tomamos la carpeta de flowers y la ponemos en una variable, y le hacemos transformaciones a las imagenes (como el clasficiador pasado)."
   ]
  },
  {
   "cell_type": "code",
   "execution_count": 3,
   "metadata": {},
   "outputs": [],
   "source": [
    "flowers = Path(\"flowers\")"
   ]
  },
  {
   "cell_type": "code",
   "execution_count": 4,
   "metadata": {},
   "outputs": [],
   "source": [
    "transformacion = fv.get_transforms(flip_vert = True, max_rotate = 360)"
   ]
  },
  {
   "cell_type": "markdown",
   "metadata": {},
   "source": [
    "Ahora vamos a usar la \"forma fea\" de cargar los datos, crearemos una funcion que reciba como parametros la carpeta a usar, el tamaño que queremos de las imágenes, y el tamaño de batch a usar.\n",
    "Para esto vamos a usar el método ImageItemList para crear una lista con las imágenes y así poder hacer transformaciones y recortarlas (algo similar a lo que se hizo con el clasificador de mascotas). "
   ]
  },
  {
   "cell_type": "code",
   "execution_count": 5,
   "metadata": {},
   "outputs": [],
   "source": [
    "def cargar_datos(folder, img_size, batch_size):\n",
    "    datos = (fv.ImageItemList.from_folder(folder)\n",
    "            .split_by_folder()\n",
    "            .label_from_folder()\n",
    "            .transform(transformacion, size = img_size)\n",
    "            .databunch(bs = batch_size))\n",
    "    return datos"
   ]
  },
  {
   "cell_type": "code",
   "execution_count": 6,
   "metadata": {},
   "outputs": [],
   "source": [
    "datos_flores = cargar_datos(flowers, img_size = 192, batch_size = 80)"
   ]
  },
  {
   "cell_type": "markdown",
   "metadata": {},
   "source": [
    "Como Pytorch no tiene ciertas funciones, se las tenemos que agregar a manita.\n",
    "\n",
    "Flatten: Sirve para conectar capas convlcionales con las lineales.\n",
    "num_params: Sirve literalmente para ver el numero de parametros que tiene nuestro modelo."
   ]
  },
  {
   "cell_type": "code",
   "execution_count": 7,
   "metadata": {},
   "outputs": [],
   "source": [
    "class Flatten(nn.Module):\n",
    "    def __init__(self):\n",
    "        super().__init__()\n",
    "    def forward(self, x):\n",
    "        return x.squeeze() #solo llama a la función squeeze para \"aplastar\" las imagenes\n",
    "\n",
    "def num_params(modelo):\n",
    "    total=0\n",
    "    for p in list(modelo.parameters()):\n",
    "        num=1\n",
    "        for s in list(p.size()):\n",
    "            num *= s\n",
    "        total += num\n",
    "    return total"
   ]
  },
  {
   "cell_type": "markdown",
   "metadata": {},
   "source": [
    "Es hora de crear nuestro primer modelo de red.\n",
    "\n",
    "Conv2d: Genera una capa convulcional en 2 dimensiones.\n",
    "\n",
    "ReLU: Función de activación.\n",
    "\n",
    "MaxPool2d: No recuerdo qué hace."
   ]
  },
  {
   "cell_type": "code",
   "execution_count": 8,
   "metadata": {},
   "outputs": [
    {
     "data": {
      "text/plain": [
       "Sequential(\n",
       "  (0): Conv2d(3, 64, kernel_size=(7, 7), stride=(2, 2), padding=(3, 3))\n",
       "  (1): ReLU(inplace)\n",
       "  (2): MaxPool2d(kernel_size=2, stride=2, padding=0, dilation=1, ceil_mode=False)\n",
       "  (3): Conv2d(64, 128, kernel_size=(3, 3), stride=(1, 1), padding=(1, 1))\n",
       "  (4): ReLU(inplace)\n",
       "  (5): MaxPool2d(kernel_size=2, stride=2, padding=0, dilation=1, ceil_mode=False)\n",
       "  (6): Conv2d(128, 192, kernel_size=(3, 3), stride=(1, 1), padding=(1, 1))\n",
       "  (7): ReLU(inplace)\n",
       "  (8): MaxPool2d(kernel_size=2, stride=2, padding=0, dilation=1, ceil_mode=False)\n",
       "  (9): Conv2d(192, 256, kernel_size=(3, 3), stride=(1, 1), padding=(1, 1))\n",
       "  (10): ReLU(inplace)\n",
       "  (11): MaxPool2d(kernel_size=2, stride=2, padding=0, dilation=1, ceil_mode=False)\n",
       "  (12): Conv2d(256, 384, kernel_size=(3, 3), stride=(1, 1), padding=(1, 1))\n",
       "  (13): Tanh()\n",
       "  (14): AdaptiveConcatPool2d(\n",
       "    (ap): AdaptiveAvgPool2d(output_size=1)\n",
       "    (mp): AdaptiveMaxPool2d(output_size=1)\n",
       "  )\n",
       "  (15): Flatten()\n",
       "  (16): Linear(in_features=768, out_features=256, bias=True)\n",
       "  (17): LeakyReLU(negative_slope=0.01, inplace)\n",
       "  (18): Linear(in_features=256, out_features=102, bias=True)\n",
       ")"
      ]
     },
     "execution_count": 8,
     "metadata": {},
     "output_type": "execute_result"
    }
   ],
   "source": [
    "modelo = nn.Sequential(\n",
    "            nn.Conv2d(3, 64, kernel_size = 7, stride = 2, padding = 3),\n",
    "            nn.ReLU(inplace = True),\n",
    "            nn.MaxPool2d(2),\n",
    "            nn.Conv2d(64, 128, kernel_size = 3, stride = 1, padding = 1),\n",
    "            nn.ReLU(inplace = True),\n",
    "            nn.MaxPool2d(2),\n",
    "            nn.Conv2d(128, 192, kernel_size = 3, stride = 1, padding = 1),\n",
    "            nn.ReLU(inplace = True),\n",
    "            nn.MaxPool2d(2),\n",
    "            nn.Conv2d(192, 256, kernel_size = 3, stride = 1, padding = 1),\n",
    "            nn.ReLU(inplace = True),\n",
    "            nn.MaxPool2d(2),\n",
    "            nn.Conv2d(256, 384, kernel_size = 3, stride = 1, padding = 1),\n",
    "            nn.Tanh(),\n",
    "            fv.AdaptiveConcatPool2d(),\n",
    "            Flatten(),\n",
    "            nn.Linear(384*2, 256),\n",
    "            nn.LeakyReLU(inplace = True),\n",
    "            nn.Linear(256, 102))\n",
    "modelo"
   ]
  },
  {
   "cell_type": "code",
   "execution_count": 9,
   "metadata": {},
   "outputs": [
    {
     "data": {
      "text/plain": [
       "1855526"
      ]
     },
     "execution_count": 9,
     "metadata": {},
     "output_type": "execute_result"
    }
   ],
   "source": [
    "num_params(modelo) #vemos el numero de parametros que tiene nuestro modelo"
   ]
  },
  {
   "cell_type": "markdown",
   "metadata": {},
   "source": [
    "Creamos nuestro learner dando nuestro modelo como parametro"
   ]
  },
  {
   "cell_type": "code",
   "execution_count": 10,
   "metadata": {},
   "outputs": [],
   "source": [
    "learner = fv.Learner(datos_flores, modelo, metrics = fai.metrics.accuracy, wd = 0.1)"
   ]
  },
  {
   "cell_type": "code",
   "execution_count": 11,
   "metadata": {},
   "outputs": [
    {
     "data": {
      "text/plain": [
       "0"
      ]
     },
     "execution_count": 11,
     "metadata": {},
     "output_type": "execute_result"
    }
   ],
   "source": [
    "gc.collect() #limpiamos memoria"
   ]
  },
  {
   "cell_type": "code",
   "execution_count": 12,
   "metadata": {
    "collapsed": true
   },
   "outputs": [
    {
     "data": {
      "text/plain": [
       "'======================================================================\\nLayer (type)         Output Shape         Param #    Trainable \\n======================================================================\\nConv2d               [80, 64, 96, 96]     9472       True      \\n______________________________________________________________________\\nReLU                 [80, 64, 96, 96]     0          False     \\n______________________________________________________________________\\nMaxPool2d            [80, 64, 48, 48]     0          False     \\n______________________________________________________________________\\nConv2d               [80, 128, 48, 48]    73856      True      \\n______________________________________________________________________\\nReLU                 [80, 128, 48, 48]    0          False     \\n______________________________________________________________________\\nMaxPool2d            [80, 128, 24, 24]    0          False     \\n______________________________________________________________________\\nConv2d               [80, 192, 24, 24]    221376     True      \\n______________________________________________________________________\\nReLU                 [80, 192, 24, 24]    0          False     \\n______________________________________________________________________\\nMaxPool2d            [80, 192, 12, 12]    0          False     \\n______________________________________________________________________\\nConv2d               [80, 256, 12, 12]    442624     True      \\n______________________________________________________________________\\nReLU                 [80, 256, 12, 12]    0          False     \\n______________________________________________________________________\\nMaxPool2d            [80, 256, 6, 6]      0          False     \\n______________________________________________________________________\\nConv2d               [80, 384, 6, 6]      885120     True      \\n______________________________________________________________________\\nTanh                 [80, 384, 6, 6]      0          False     \\n______________________________________________________________________\\nAdaptiveAvgPool2d    [80, 384, 1, 1]      0          False     \\n______________________________________________________________________\\nAdaptiveMaxPool2d    [80, 384, 1, 1]      0          False     \\n______________________________________________________________________\\nFlatten              [80, 768]            0          False     \\n______________________________________________________________________\\nLinear               [80, 256]            196864     True      \\n______________________________________________________________________\\nLeakyReLU            [80, 256]            0          False     \\n______________________________________________________________________\\nLinear               [80, 102]            26214      True      \\n______________________________________________________________________\\n\\nTotal params: 1855526\\nTotal trainable params: 1855526\\nTotal non-trainable params: 0\\n'"
      ]
     },
     "execution_count": 12,
     "metadata": {},
     "output_type": "execute_result"
    }
   ],
   "source": [
    "learner.summary() # damos una vista rápida a la arquitectura del modelo. \n",
    "#Lo pondré en un Raw NBConvert ya que la salida es muy fea y casi no se entiende"
   ]
  },
  {
   "cell_type": "raw",
   "metadata": {},
   "source": [
    "======================================================================\n",
    "Layer (type)         Output Shape         Param #    Trainable \n",
    "======================================================================\n",
    "Conv2d               [80, 64, 96, 96]     9472       True      \n",
    "ReLU                 [80, 64, 96, 96]     0          False     \n",
    "MaxPool2d            [80, 64, 48, 48]     0          False     \n",
    "Conv2d               [80, 128, 48, 48]    73856      True      \n",
    "ReLU                 [80, 128, 48, 48]    0          False     \n",
    "MaxPool2d            [80, 128, 24, 24]    0          False     \n",
    "Conv2d               [80, 192, 24, 24]    221376     True      \n",
    "ReLU                 [80, 192, 24, 24]    0          False     \n",
    "MaxPool2d            [80, 192, 12, 12]    0          False     \n",
    "Conv2d               [80, 256, 12, 12]    442624     True      \n",
    "ReLU                 [80, 256, 12, 12]    0          False     \n",
    "MaxPool2d            [80, 256, 6, 6]      0          False     \n",
    "Conv2d               [80, 384, 6, 6]      885120     True      \n",
    "Tanh                 [80, 384, 6, 6]      0          False     \n",
    "AdaptiveAvgPool2d    [80, 384, 1, 1]      0          False     \n",
    "AdaptiveMaxPool2d    [80, 384, 1, 1]      0          False     \n",
    "Flatten              [80, 768]            0          False     \n",
    "Linear               [80, 256]            196864     True      \n",
    "LeakyReLU            [80, 256]            0          False     \n",
    "Linear               [80, 102]            26214      True      \n",
    "Total params: 1855526\n",
    "Total trainable params: 1855526"
   ]
  },
  {
   "cell_type": "markdown",
   "metadata": {},
   "source": [
    "Ahora trataremos de encontrar una taza de aprendizaje \"decente\". Y ese resultado lo usaremos en el fit_one_cycle."
   ]
  },
  {
   "cell_type": "code",
   "execution_count": 13,
   "metadata": {},
   "outputs": [
    {
     "name": "stdout",
     "output_type": "stream",
     "text": [
      "LR Finder is complete, type {learner_name}.recorder.plot() to see the graph.\n"
     ]
    },
    {
     "data": {
      "image/png": "[encoded data removed]",
      "text/plain": [
       "<Figure size 432x288 with 1 Axes>"
      ]
     },
     "metadata": {
      "needs_background": "light"
     },
     "output_type": "display_data"
    }
   ],
   "source": [
    "learner.lr_find(); learner.recorder.plot()"
   ]
  },
  {
   "cell_type": "code",
   "execution_count": 14,
   "metadata": {},
   "outputs": [
    {
     "data": {
      "text/html": [
       "Total time: 02:31 <p><table style='width:300px; margin-bottom:10px'>\n",
       "  <tr>\n",
       "    <th>epoch</th>\n",
       "    <th>train_loss</th>\n",
       "    <th>valid_loss</th>\n",
       "    <th>accuracy</th>\n",
       "  </tr>\n",
       "  <tr>\n",
       "    <th>1</th>\n",
       "    <th>4.290831</th>\n",
       "    <th>4.002775</th>\n",
       "    <th>0.043478</th>\n",
       "  </tr>\n",
       "  <tr>\n",
       "    <th>2</th>\n",
       "    <th>3.673901</th>\n",
       "    <th>3.356787</th>\n",
       "    <th>0.150198</th>\n",
       "  </tr>\n",
       "  <tr>\n",
       "    <th>3</th>\n",
       "    <th>3.203165</th>\n",
       "    <th>3.072196</th>\n",
       "    <th>0.197628</th>\n",
       "  </tr>\n",
       "</table>\n"
      ],
      "text/plain": [
       "<IPython.core.display.HTML object>"
      ]
     },
     "metadata": {},
     "output_type": "display_data"
    }
   ],
   "source": [
    "learner.fit_one_cycle(3, 3e-3)"
   ]
  },
  {
   "cell_type": "markdown",
   "metadata": {},
   "source": [
    "Una vez que lo entrenamos volvemos a sacar una gráfica de learning rate para sacar la nueva taza de aprendizaje"
   ]
  },
  {
   "cell_type": "code",
   "execution_count": 15,
   "metadata": {},
   "outputs": [
    {
     "name": "stdout",
     "output_type": "stream",
     "text": [
      "LR Finder is complete, type {learner_name}.recorder.plot() to see the graph.\n"
     ]
    },
    {
     "data": {
      "image/png": "[encoded data removed]",
      "text/plain": [
       "<Figure size 432x288 with 1 Axes>"
      ]
     },
     "metadata": {
      "needs_background": "light"
     },
     "output_type": "display_data"
    }
   ],
   "source": [
    "learner.lr_find(); learner.recorder.plot()"
   ]
  },
  {
   "cell_type": "code",
   "execution_count": 16,
   "metadata": {},
   "outputs": [
    {
     "data": {
      "text/html": [
       "Total time: 07:57 <p><table style='width:300px; margin-bottom:10px'>\n",
       "  <tr>\n",
       "    <th>epoch</th>\n",
       "    <th>train_loss</th>\n",
       "    <th>valid_loss</th>\n",
       "    <th>accuracy</th>\n",
       "  </tr>\n",
       "  <tr>\n",
       "    <th>1</th>\n",
       "    <th>3.012267</th>\n",
       "    <th>3.029344</th>\n",
       "    <th>0.197628</th>\n",
       "  </tr>\n",
       "  <tr>\n",
       "    <th>2</th>\n",
       "    <th>2.971432</th>\n",
       "    <th>2.940127</th>\n",
       "    <th>0.239130</th>\n",
       "  </tr>\n",
       "  <tr>\n",
       "    <th>3</th>\n",
       "    <th>2.901617</th>\n",
       "    <th>2.899018</th>\n",
       "    <th>0.201581</th>\n",
       "  </tr>\n",
       "  <tr>\n",
       "    <th>4</th>\n",
       "    <th>2.787291</th>\n",
       "    <th>2.716493</th>\n",
       "    <th>0.247036</th>\n",
       "  </tr>\n",
       "  <tr>\n",
       "    <th>5</th>\n",
       "    <th>2.651374</th>\n",
       "    <th>2.593771</th>\n",
       "    <th>0.302372</th>\n",
       "  </tr>\n",
       "  <tr>\n",
       "    <th>6</th>\n",
       "    <th>2.520230</th>\n",
       "    <th>2.486593</th>\n",
       "    <th>0.320158</th>\n",
       "  </tr>\n",
       "  <tr>\n",
       "    <th>7</th>\n",
       "    <th>2.413574</th>\n",
       "    <th>2.406152</th>\n",
       "    <th>0.349802</th>\n",
       "  </tr>\n",
       "  <tr>\n",
       "    <th>8</th>\n",
       "    <th>2.302616</th>\n",
       "    <th>2.366841</th>\n",
       "    <th>0.357708</th>\n",
       "  </tr>\n",
       "  <tr>\n",
       "    <th>9</th>\n",
       "    <th>2.221081</th>\n",
       "    <th>2.312186</th>\n",
       "    <th>0.359684</th>\n",
       "  </tr>\n",
       "  <tr>\n",
       "    <th>10</th>\n",
       "    <th>2.189527</th>\n",
       "    <th>2.308686</th>\n",
       "    <th>0.369565</th>\n",
       "  </tr>\n",
       "</table>\n"
      ],
      "text/plain": [
       "<IPython.core.display.HTML object>"
      ]
     },
     "metadata": {},
     "output_type": "display_data"
    }
   ],
   "source": [
    "learner.fit_one_cycle(10, 7e-4) #ponemos el mejor leaning rate"
   ]
  },
  {
   "cell_type": "markdown",
   "metadata": {},
   "source": [
    "Y repetimos el proceso"
   ]
  },
  {
   "cell_type": "code",
   "execution_count": 17,
   "metadata": {},
   "outputs": [
    {
     "name": "stdout",
     "output_type": "stream",
     "text": [
      "LR Finder is complete, type {learner_name}.recorder.plot() to see the graph.\n"
     ]
    },
    {
     "data": {
      "image/png": "[encoded data removed]",
      "text/plain": [
       "<Figure size 432x288 with 1 Axes>"
      ]
     },
     "metadata": {
      "needs_background": "light"
     },
     "output_type": "display_data"
    }
   ],
   "source": [
    "learner.lr_find(); learner.recorder.plot()"
   ]
  },
  {
   "cell_type": "code",
   "execution_count": 18,
   "metadata": {},
   "outputs": [
    {
     "data": {
      "text/html": [
       "Total time: 07:43 <p><table style='width:300px; margin-bottom:10px'>\n",
       "  <tr>\n",
       "    <th>epoch</th>\n",
       "    <th>train_loss</th>\n",
       "    <th>valid_loss</th>\n",
       "    <th>accuracy</th>\n",
       "  </tr>\n",
       "  <tr>\n",
       "    <th>1</th>\n",
       "    <th>2.202538</th>\n",
       "    <th>2.305443</th>\n",
       "    <th>0.357708</th>\n",
       "  </tr>\n",
       "  <tr>\n",
       "    <th>2</th>\n",
       "    <th>2.209146</th>\n",
       "    <th>2.292401</th>\n",
       "    <th>0.367589</th>\n",
       "  </tr>\n",
       "  <tr>\n",
       "    <th>3</th>\n",
       "    <th>2.212477</th>\n",
       "    <th>2.270036</th>\n",
       "    <th>0.385375</th>\n",
       "  </tr>\n",
       "  <tr>\n",
       "    <th>4</th>\n",
       "    <th>2.189735</th>\n",
       "    <th>2.254205</th>\n",
       "    <th>0.375494</th>\n",
       "  </tr>\n",
       "  <tr>\n",
       "    <th>5</th>\n",
       "    <th>2.128154</th>\n",
       "    <th>2.224626</th>\n",
       "    <th>0.381423</th>\n",
       "  </tr>\n",
       "  <tr>\n",
       "    <th>6</th>\n",
       "    <th>2.100861</th>\n",
       "    <th>2.176476</th>\n",
       "    <th>0.401186</th>\n",
       "  </tr>\n",
       "  <tr>\n",
       "    <th>7</th>\n",
       "    <th>2.049931</th>\n",
       "    <th>2.139974</th>\n",
       "    <th>0.407115</th>\n",
       "  </tr>\n",
       "  <tr>\n",
       "    <th>8</th>\n",
       "    <th>2.001894</th>\n",
       "    <th>2.128546</th>\n",
       "    <th>0.411067</th>\n",
       "  </tr>\n",
       "  <tr>\n",
       "    <th>9</th>\n",
       "    <th>1.994279</th>\n",
       "    <th>2.120476</th>\n",
       "    <th>0.409091</th>\n",
       "  </tr>\n",
       "  <tr>\n",
       "    <th>10</th>\n",
       "    <th>1.969211</th>\n",
       "    <th>2.122185</th>\n",
       "    <th>0.411067</th>\n",
       "  </tr>\n",
       "</table>\n"
      ],
      "text/plain": [
       "<IPython.core.display.HTML object>"
      ]
     },
     "metadata": {},
     "output_type": "display_data"
    }
   ],
   "source": [
    "learner.fit_one_cycle(10, 2e-4)"
   ]
  },
  {
   "cell_type": "markdown",
   "metadata": {},
   "source": [
    "# ¿Cómo mejorar nuestro modelo?"
   ]
  },
  {
   "cell_type": "markdown",
   "metadata": {},
   "source": [
    "Como nuestro modelo no da buenos resultados tenemos que mejorar ciertos aspectos como el Transfer learning, el BatchNorm, Resnet y poner más capas"
   ]
  },
  {
   "cell_type": "markdown",
   "metadata": {},
   "source": [
    "### Batch norm"
   ]
  },
  {
   "cell_type": "markdown",
   "metadata": {},
   "source": [
    "Esta función se puede agregar directamente en modelo que hicimos anteriormente, pero sería más complicado de entender. \n",
    "\n",
    "La idea de esta función es poner la activión y el batchnorm antes de las capas convulcionales."
   ]
  },
  {
   "cell_type": "code",
   "execution_count": 19,
   "metadata": {},
   "outputs": [],
   "source": [
    "def conv_block(ni, no, k = 3, s = 1, pad = \"same\", bn = True, activation = True, g = 1):\n",
    "    if pad == \"same\": \n",
    "        pad = k//2\n",
    "    \n",
    "    layers = []\n",
    "    \n",
    "    if bn:\n",
    "        layers += [nn.BatchNorm2d(ni)]\n",
    "       \n",
    "    if activation:\n",
    "        layers += [nn.LeakyReLU(inplace = True)] \n",
    "    \n",
    "    layers += [nn.Conv2d(ni, no, kernel_size = k, stride=s, padding=pad, bias = not bn, groups=g)]\n",
    "    \n",
    "    return nn.Sequential(*layers)"
   ]
  },
  {
   "cell_type": "markdown",
   "metadata": {},
   "source": [
    "Rehacemos el modelo agregando la función que acabamos de hacer, pero en la primera linea activation = False es para que no entre la activación directamente"
   ]
  },
  {
   "cell_type": "code",
   "execution_count": 20,
   "metadata": {},
   "outputs": [
    {
     "data": {
      "text/plain": [
       "1855846"
      ]
     },
     "execution_count": 20,
     "metadata": {},
     "output_type": "execute_result"
    }
   ],
   "source": [
    "modelo = nn.Sequential(\n",
    "            conv_block(3, 64, k = 7, s = 2, activation = False, bn = False),\n",
    "            nn.MaxPool2d(2),\n",
    "            conv_block(64, 128),\n",
    "            nn.MaxPool2d(2),\n",
    "            conv_block(128, 192),\n",
    "            nn.MaxPool2d(2),\n",
    "            conv_block(192, 256),\n",
    "            nn.MaxPool2d(2),\n",
    "            conv_block(256, 384),\n",
    "            nn.Tanh(),\n",
    "            fv.AdaptiveConcatPool2d(),\n",
    "            Flatten(),\n",
    "            nn.Linear(2*384, 256),\n",
    "            nn.LeakyReLU(inplace = True),\n",
    "            nn.Linear(256, 102)\n",
    "        )\n",
    "num_params(modelo)"
   ]
  },
  {
   "cell_type": "code",
   "execution_count": 21,
   "metadata": {},
   "outputs": [],
   "source": [
    "learner = fv.Learner(datos_flores, modelo, metrics = fai.metrics.accuracy, wd = 0.05) #creamos otra vez el learner con el nuevo modelo"
   ]
  },
  {
   "cell_type": "code",
   "execution_count": 22,
   "metadata": {},
   "outputs": [
    {
     "data": {
      "text/plain": [
       "21199"
      ]
     },
     "execution_count": 22,
     "metadata": {},
     "output_type": "execute_result"
    }
   ],
   "source": [
    "gc.collect() #limpia la memoria"
   ]
  },
  {
   "cell_type": "code",
   "execution_count": 23,
   "metadata": {
    "collapsed": true
   },
   "outputs": [
    {
     "data": {
      "text/plain": [
       "'======================================================================\\nLayer (type)         Output Shape         Param #    Trainable \\n======================================================================\\nConv2d               [80, 64, 96, 96]     9472       True      \\n______________________________________________________________________\\nMaxPool2d            [80, 64, 48, 48]     0          False     \\n______________________________________________________________________\\nBatchNorm2d          [80, 64, 48, 48]     128        True      \\n______________________________________________________________________\\nLeakyReLU            [80, 64, 48, 48]     0          False     \\n______________________________________________________________________\\nConv2d               [80, 128, 48, 48]    73728      True      \\n______________________________________________________________________\\nMaxPool2d            [80, 128, 24, 24]    0          False     \\n______________________________________________________________________\\nBatchNorm2d          [80, 128, 24, 24]    256        True      \\n______________________________________________________________________\\nLeakyReLU            [80, 128, 24, 24]    0          False     \\n______________________________________________________________________\\nConv2d               [80, 192, 24, 24]    221184     True      \\n______________________________________________________________________\\nMaxPool2d            [80, 192, 12, 12]    0          False     \\n______________________________________________________________________\\nBatchNorm2d          [80, 192, 12, 12]    384        True      \\n______________________________________________________________________\\nLeakyReLU            [80, 192, 12, 12]    0          False     \\n______________________________________________________________________\\nConv2d               [80, 256, 12, 12]    442368     True      \\n______________________________________________________________________\\nMaxPool2d            [80, 256, 6, 6]      0          False     \\n______________________________________________________________________\\nBatchNorm2d          [80, 256, 6, 6]      512        True      \\n______________________________________________________________________\\nLeakyReLU            [80, 256, 6, 6]      0          False     \\n______________________________________________________________________\\nConv2d               [80, 384, 6, 6]      884736     True      \\n______________________________________________________________________\\nTanh                 [80, 384, 6, 6]      0          False     \\n______________________________________________________________________\\nAdaptiveAvgPool2d    [80, 384, 1, 1]      0          False     \\n______________________________________________________________________\\nAdaptiveMaxPool2d    [80, 384, 1, 1]      0          False     \\n______________________________________________________________________\\nFlatten              [80, 768]            0          False     \\n______________________________________________________________________\\nLinear               [80, 256]            196864     True      \\n______________________________________________________________________\\nLeakyReLU            [80, 256]            0          False     \\n______________________________________________________________________\\nLinear               [80, 102]            26214      True      \\n______________________________________________________________________\\n\\nTotal params: 1855846\\nTotal trainable params: 1855846\\nTotal non-trainable params: 0\\n'"
      ]
     },
     "execution_count": 23,
     "metadata": {},
     "output_type": "execute_result"
    }
   ],
   "source": [
    "learner.summary()"
   ]
  },
  {
   "cell_type": "raw",
   "metadata": {},
   "source": [
    "======================================================================\n",
    "Layer (type)         Output Shape         Param #    Trainable \n",
    "======================================================================\n",
    "Conv2d               [80, 64, 96, 96]     9472       True      \n",
    "MaxPool2d            [80, 64, 48, 48]     0          False     \n",
    "BatchNorm2d          [80, 64, 48, 48]     128        True      \n",
    "LeakyReLU            [80, 64, 48, 48]     0          False     \n",
    "Conv2d               [80, 128, 48, 48]    73728      True      \n",
    "MaxPool2d            [80, 128, 24, 24]    0          False     \n",
    "BatchNorm2d          [80, 128, 24, 24]    256        True      \n",
    "LeakyReLU            [80, 128, 24, 24]    0          False     \n",
    "Conv2d               [80, 192, 24, 24]    221184     True      \n",
    "MaxPool2d            [80, 192, 12, 12]    0          False     \n",
    "BatchNorm2d          [80, 192, 12, 12]    384        True      \n",
    "LeakyReLU            [80, 192, 12, 12]    0          False     \n",
    "Conv2d               [80, 256, 12, 12]    442368     True      \n",
    "MaxPool2d            [80, 256, 6, 6]      0          False     \n",
    "BatchNorm2d          [80, 256, 6, 6]      512        True      \n",
    "LeakyReLU            [80, 256, 6, 6]      0          False     \n",
    "Conv2d               [80, 384, 6, 6]      884736     True      \n",
    "Tanh                 [80, 384, 6, 6]      0          False     \n",
    "AdaptiveAvgPool2d    [80, 384, 1, 1]      0          False     \n",
    "AdaptiveMaxPool2d    [80, 384, 1, 1]      0          False     \n",
    "Flatten              [80, 768]            0          False     \n",
    "Linear               [80, 256]            196864     True      \n",
    "LeakyReLU            [80, 256]            0          False     \n",
    "Linear               [80, 102]            26214      True      \n",
    "Total params: 1855846\n",
    "Total trainable params: 1855846\n",
    "Total non-trainable params: 0"
   ]
  },
  {
   "cell_type": "markdown",
   "metadata": {},
   "source": [
    "Vamos a repetir el proceso anterior para seleccionar una learning rate."
   ]
  },
  {
   "cell_type": "code",
   "execution_count": 24,
   "metadata": {},
   "outputs": [
    {
     "name": "stdout",
     "output_type": "stream",
     "text": [
      "LR Finder is complete, type {learner_name}.recorder.plot() to see the graph.\n"
     ]
    },
    {
     "data": {
      "image/png": "[encoded data removed]",
      "text/plain": [
       "<Figure size 432x288 with 1 Axes>"
      ]
     },
     "metadata": {
      "needs_background": "light"
     },
     "output_type": "display_data"
    }
   ],
   "source": [
    "learner.lr_find(); learner.recorder.plot()"
   ]
  },
  {
   "cell_type": "code",
   "execution_count": 25,
   "metadata": {},
   "outputs": [
    {
     "data": {
      "text/html": [
       "Total time: 02:19 <p><table style='width:300px; margin-bottom:10px'>\n",
       "  <tr>\n",
       "    <th>epoch</th>\n",
       "    <th>train_loss</th>\n",
       "    <th>valid_loss</th>\n",
       "    <th>accuracy</th>\n",
       "  </tr>\n",
       "  <tr>\n",
       "    <th>1</th>\n",
       "    <th>3.757950</th>\n",
       "    <th>5.948403</th>\n",
       "    <th>0.047431</th>\n",
       "  </tr>\n",
       "  <tr>\n",
       "    <th>2</th>\n",
       "    <th>3.264836</th>\n",
       "    <th>3.038846</th>\n",
       "    <th>0.195652</th>\n",
       "  </tr>\n",
       "  <tr>\n",
       "    <th>3</th>\n",
       "    <th>2.765366</th>\n",
       "    <th>2.628155</th>\n",
       "    <th>0.298419</th>\n",
       "  </tr>\n",
       "</table>\n"
      ],
      "text/plain": [
       "<IPython.core.display.HTML object>"
      ]
     },
     "metadata": {},
     "output_type": "display_data"
    }
   ],
   "source": [
    "learner.fit_one_cycle(3, 5e-3)"
   ]
  },
  {
   "cell_type": "code",
   "execution_count": 26,
   "metadata": {},
   "outputs": [
    {
     "name": "stdout",
     "output_type": "stream",
     "text": [
      "LR Finder is complete, type {learner_name}.recorder.plot() to see the graph.\n"
     ]
    },
    {
     "data": {
      "image/png": "[encoded data removed]",
      "text/plain": [
       "<Figure size 432x288 with 1 Axes>"
      ]
     },
     "metadata": {
      "needs_background": "light"
     },
     "output_type": "display_data"
    }
   ],
   "source": [
    "learner.lr_find(); learner.recorder.plot()"
   ]
  },
  {
   "cell_type": "code",
   "execution_count": 27,
   "metadata": {},
   "outputs": [
    {
     "data": {
      "text/html": [
       "Total time: 07:42 <p><table style='width:300px; margin-bottom:10px'>\n",
       "  <tr>\n",
       "    <th>epoch</th>\n",
       "    <th>train_loss</th>\n",
       "    <th>valid_loss</th>\n",
       "    <th>accuracy</th>\n",
       "  </tr>\n",
       "  <tr>\n",
       "    <th>1</th>\n",
       "    <th>2.552995</th>\n",
       "    <th>2.595283</th>\n",
       "    <th>0.304348</th>\n",
       "  </tr>\n",
       "  <tr>\n",
       "    <th>2</th>\n",
       "    <th>2.536668</th>\n",
       "    <th>3.140568</th>\n",
       "    <th>0.185771</th>\n",
       "  </tr>\n",
       "  <tr>\n",
       "    <th>3</th>\n",
       "    <th>2.436813</th>\n",
       "    <th>2.412382</th>\n",
       "    <th>0.339921</th>\n",
       "  </tr>\n",
       "  <tr>\n",
       "    <th>4</th>\n",
       "    <th>2.295905</th>\n",
       "    <th>2.494361</th>\n",
       "    <th>0.326087</th>\n",
       "  </tr>\n",
       "  <tr>\n",
       "    <th>5</th>\n",
       "    <th>2.107307</th>\n",
       "    <th>2.080354</th>\n",
       "    <th>0.407115</th>\n",
       "  </tr>\n",
       "  <tr>\n",
       "    <th>6</th>\n",
       "    <th>1.975979</th>\n",
       "    <th>1.927286</th>\n",
       "    <th>0.454545</th>\n",
       "  </tr>\n",
       "  <tr>\n",
       "    <th>7</th>\n",
       "    <th>1.826232</th>\n",
       "    <th>1.862377</th>\n",
       "    <th>0.484190</th>\n",
       "  </tr>\n",
       "  <tr>\n",
       "    <th>8</th>\n",
       "    <th>1.719906</th>\n",
       "    <th>1.713705</th>\n",
       "    <th>0.503953</th>\n",
       "  </tr>\n",
       "  <tr>\n",
       "    <th>9</th>\n",
       "    <th>1.649345</th>\n",
       "    <th>1.683656</th>\n",
       "    <th>0.519763</th>\n",
       "  </tr>\n",
       "  <tr>\n",
       "    <th>10</th>\n",
       "    <th>1.589234</th>\n",
       "    <th>1.667149</th>\n",
       "    <th>0.519763</th>\n",
       "  </tr>\n",
       "</table>\n"
      ],
      "text/plain": [
       "<IPython.core.display.HTML object>"
      ]
     },
     "metadata": {},
     "output_type": "display_data"
    }
   ],
   "source": [
    "learner.fit_one_cycle(10, 1e-3)"
   ]
  },
  {
   "cell_type": "code",
   "execution_count": 28,
   "metadata": {},
   "outputs": [
    {
     "name": "stdout",
     "output_type": "stream",
     "text": [
      "LR Finder is complete, type {learner_name}.recorder.plot() to see the graph.\n"
     ]
    },
    {
     "data": {
      "image/png": "[encoded data removed]",
      "text/plain": [
       "<Figure size 432x288 with 1 Axes>"
      ]
     },
     "metadata": {
      "needs_background": "light"
     },
     "output_type": "display_data"
    }
   ],
   "source": [
    "learner.lr_find(); learner.recorder.plot()"
   ]
  },
  {
   "cell_type": "code",
   "execution_count": 29,
   "metadata": {},
   "outputs": [
    {
     "data": {
      "text/html": [
       "Total time: 07:45 <p><table style='width:300px; margin-bottom:10px'>\n",
       "  <tr>\n",
       "    <th>epoch</th>\n",
       "    <th>train_loss</th>\n",
       "    <th>valid_loss</th>\n",
       "    <th>accuracy</th>\n",
       "  </tr>\n",
       "  <tr>\n",
       "    <th>1</th>\n",
       "    <th>1.585728</th>\n",
       "    <th>1.666092</th>\n",
       "    <th>0.515810</th>\n",
       "  </tr>\n",
       "  <tr>\n",
       "    <th>2</th>\n",
       "    <th>1.566991</th>\n",
       "    <th>1.659719</th>\n",
       "    <th>0.521739</th>\n",
       "  </tr>\n",
       "  <tr>\n",
       "    <th>3</th>\n",
       "    <th>1.590261</th>\n",
       "    <th>1.663107</th>\n",
       "    <th>0.519763</th>\n",
       "  </tr>\n",
       "  <tr>\n",
       "    <th>4</th>\n",
       "    <th>1.574344</th>\n",
       "    <th>1.653253</th>\n",
       "    <th>0.525692</th>\n",
       "  </tr>\n",
       "  <tr>\n",
       "    <th>5</th>\n",
       "    <th>1.564682</th>\n",
       "    <th>1.652999</th>\n",
       "    <th>0.525692</th>\n",
       "  </tr>\n",
       "  <tr>\n",
       "    <th>6</th>\n",
       "    <th>1.583729</th>\n",
       "    <th>1.656952</th>\n",
       "    <th>0.519763</th>\n",
       "  </tr>\n",
       "  <tr>\n",
       "    <th>7</th>\n",
       "    <th>1.563596</th>\n",
       "    <th>1.654767</th>\n",
       "    <th>0.517787</th>\n",
       "  </tr>\n",
       "  <tr>\n",
       "    <th>8</th>\n",
       "    <th>1.566849</th>\n",
       "    <th>1.659501</th>\n",
       "    <th>0.521739</th>\n",
       "  </tr>\n",
       "  <tr>\n",
       "    <th>9</th>\n",
       "    <th>1.567916</th>\n",
       "    <th>1.663874</th>\n",
       "    <th>0.511858</th>\n",
       "  </tr>\n",
       "  <tr>\n",
       "    <th>10</th>\n",
       "    <th>1.570907</th>\n",
       "    <th>1.657868</th>\n",
       "    <th>0.523715</th>\n",
       "  </tr>\n",
       "</table>\n"
      ],
      "text/plain": [
       "<IPython.core.display.HTML object>"
      ]
     },
     "metadata": {},
     "output_type": "display_data"
    }
   ],
   "source": [
    "learner.fit_one_cycle(10, 1e-5)"
   ]
  },
  {
   "cell_type": "markdown",
   "metadata": {},
   "source": [
    "Ahora checamos el número de parametros y lo comparamos con el número de parametros que tiene resnet18 y vemos que si es considerablemente más bajo."
   ]
  },
  {
   "cell_type": "code",
   "execution_count": 30,
   "metadata": {},
   "outputs": [
    {
     "name": "stdout",
     "output_type": "stream",
     "text": [
      "11689512\n"
     ]
    },
    {
     "data": {
      "text/plain": [
       "6.29875108171691"
      ]
     },
     "execution_count": 30,
     "metadata": {},
     "output_type": "execute_result"
    }
   ],
   "source": [
    "print(num_params(fv.models.resnet18()))\n",
    "num_params(fv.models.resnet18())/num_params(modelo)"
   ]
  },
  {
   "cell_type": "markdown",
   "metadata": {},
   "source": [
    "### Resnets"
   ]
  },
  {
   "cell_type": "markdown",
   "metadata": {},
   "source": [
    "Para mejorar el rendimiento, vamos a \"saltar conexiones\". Es decir, vamos a guardar el resultado de una capa y vamos a sumarla, pero un par de capas depues en vez de sumarla a la siguiente y así sucesivamente. (No logro entender muy bien lo que hace la clase Downscale)"
   ]
  },
  {
   "cell_type": "code",
   "execution_count": 31,
   "metadata": {},
   "outputs": [],
   "source": [
    "class ResBlock(nn.Module):\n",
    "    def __init__(self, nf):\n",
    "        super().__init__()\n",
    "        \n",
    "        layers = [conv_block(nf, nf, k = 3),\n",
    "                  conv_block(nf, nf)]\n",
    "        self.residual = nn.Sequential(*layers)\n",
    "        \n",
    "    def forward(self, x):\n",
    "        return x + self.residual(x)"
   ]
  },
  {
   "cell_type": "code",
   "execution_count": 32,
   "metadata": {},
   "outputs": [],
   "source": [
    "class Downscale(nn.Module):\n",
    "    def __init__(self, ni, no):\n",
    "        super().__init__()\n",
    "        \n",
    "        self.ap = nn.AvgPool2d(2)\n",
    "        self.mp = nn.MaxPool2d(2)\n",
    "        self.conv = conv_block(2*ni,no,ks = 1,s = 1,pad = 0)\n",
    "         \n",
    "    def forward(self, x):\n",
    "        return self.conv(torch.cat((self.ap(x), self.mp(x)), dim = 1))"
   ]
  },
  {
   "cell_type": "code",
   "execution_count": 33,
   "metadata": {},
   "outputs": [],
   "source": [
    "def resnet_body(filters):\n",
    "    layers = [conv_block(3, filters[0], k = 7, s = 2, activation = False)]\n",
    "    \n",
    "    for ni, no in zip(filters[:-1], filters[1:]):\n",
    "        layers += [nn.MaxPool2d(2), ResBlock(ni), conv_block(ni, no, g = 1 + (no > 150))]\n",
    "        \n",
    "    return layers"
   ]
  },
  {
   "cell_type": "markdown",
   "metadata": {},
   "source": [
    "Ahora tomamos las funciones que acabamos de hacer, y las utilizaremos para crear un nuevo modelo."
   ]
  },
  {
   "cell_type": "code",
   "execution_count": 44,
   "metadata": {},
   "outputs": [],
   "source": [
    "layers = resnet_body([64, 96, 128, 192, 256])\n",
    "layers += [nn.Tanh(),\n",
    "          fv.AdaptiveConcatPool2d(),\n",
    "          Flatten(),\n",
    "          nn.Dropout(0.5), # es el porcentaje de neuronas que se \"desconectan\" en cada iteración\n",
    "          nn.Linear(512, 256),\n",
    "          nn.Dropout(0.2),\n",
    "          nn.LeakyReLU(inplace = True),\n",
    "          nn.Linear(256, 102)]\n",
    "\n",
    "modelo = nn.Sequential(*layers)"
   ]
  },
  {
   "cell_type": "markdown",
   "metadata": {},
   "source": [
    "Y repetimos el proceso"
   ]
  },
  {
   "cell_type": "code",
   "execution_count": 45,
   "metadata": {},
   "outputs": [
    {
     "data": {
      "text/plain": [
       "1865580"
      ]
     },
     "execution_count": 45,
     "metadata": {},
     "output_type": "execute_result"
    }
   ],
   "source": [
    "num_params(modelo)"
   ]
  },
  {
   "cell_type": "code",
   "execution_count": 46,
   "metadata": {},
   "outputs": [],
   "source": [
    "learner = fv.Learner(datos_flores, modelo, wd=0.1, metrics=fai.metrics.accuracy)"
   ]
  },
  {
   "cell_type": "code",
   "execution_count": 47,
   "metadata": {},
   "outputs": [
    {
     "data": {
      "text/plain": [
       "8"
      ]
     },
     "execution_count": 47,
     "metadata": {},
     "output_type": "execute_result"
    }
   ],
   "source": [
    "gc.collect()"
   ]
  },
  {
   "cell_type": "code",
   "execution_count": 48,
   "metadata": {
    "collapsed": true
   },
   "outputs": [
    {
     "data": {
      "text/plain": [
       "'======================================================================\\nLayer (type)         Output Shape         Param #    Trainable \\n======================================================================\\nBatchNorm2d          [80, 3, 192, 192]    6          True      \\n______________________________________________________________________\\nConv2d               [80, 64, 96, 96]     9408       True      \\n______________________________________________________________________\\nMaxPool2d            [80, 64, 48, 48]     0          False     \\n______________________________________________________________________\\nBatchNorm2d          [80, 64, 48, 48]     128        True      \\n______________________________________________________________________\\nLeakyReLU            [80, 64, 48, 48]     0          False     \\n______________________________________________________________________\\nConv2d               [80, 64, 48, 48]     36864      True      \\n______________________________________________________________________\\nBatchNorm2d          [80, 64, 48, 48]     128        True      \\n______________________________________________________________________\\nLeakyReLU            [80, 64, 48, 48]     0          False     \\n______________________________________________________________________\\nConv2d               [80, 64, 48, 48]     36864      True      \\n______________________________________________________________________\\nBatchNorm2d          [80, 64, 48, 48]     128        True      \\n______________________________________________________________________\\nLeakyReLU            [80, 64, 48, 48]     0          False     \\n______________________________________________________________________\\nConv2d               [80, 96, 48, 48]     55296      True      \\n______________________________________________________________________\\nMaxPool2d            [80, 96, 24, 24]     0          False     \\n______________________________________________________________________\\nBatchNorm2d          [80, 96, 24, 24]     192        True      \\n______________________________________________________________________\\nLeakyReLU            [80, 96, 24, 24]     0          False     \\n______________________________________________________________________\\nConv2d               [80, 96, 24, 24]     82944      True      \\n______________________________________________________________________\\nBatchNorm2d          [80, 96, 24, 24]     192        True      \\n______________________________________________________________________\\nLeakyReLU            [80, 96, 24, 24]     0          False     \\n______________________________________________________________________\\nConv2d               [80, 96, 24, 24]     82944      True      \\n______________________________________________________________________\\nBatchNorm2d          [80, 96, 24, 24]     192        True      \\n______________________________________________________________________\\nLeakyReLU            [80, 96, 24, 24]     0          False     \\n______________________________________________________________________\\nConv2d               [80, 128, 24, 24]    110592     True      \\n______________________________________________________________________\\nMaxPool2d            [80, 128, 12, 12]    0          False     \\n______________________________________________________________________\\nBatchNorm2d          [80, 128, 12, 12]    256        True      \\n______________________________________________________________________\\nLeakyReLU            [80, 128, 12, 12]    0          False     \\n______________________________________________________________________\\nConv2d               [80, 128, 12, 12]    147456     True      \\n______________________________________________________________________\\nBatchNorm2d          [80, 128, 12, 12]    256        True      \\n______________________________________________________________________\\nLeakyReLU            [80, 128, 12, 12]    0          False     \\n______________________________________________________________________\\nConv2d               [80, 128, 12, 12]    147456     True      \\n______________________________________________________________________\\nBatchNorm2d          [80, 128, 12, 12]    256        True      \\n______________________________________________________________________\\nLeakyReLU            [80, 128, 12, 12]    0          False     \\n______________________________________________________________________\\nConv2d               [80, 192, 12, 12]    110592     True      \\n______________________________________________________________________\\nMaxPool2d            [80, 192, 6, 6]      0          False     \\n______________________________________________________________________\\nBatchNorm2d          [80, 192, 6, 6]      384        True      \\n______________________________________________________________________\\nLeakyReLU            [80, 192, 6, 6]      0          False     \\n______________________________________________________________________\\nConv2d               [80, 192, 6, 6]      331776     True      \\n______________________________________________________________________\\nBatchNorm2d          [80, 192, 6, 6]      384        True      \\n______________________________________________________________________\\nLeakyReLU            [80, 192, 6, 6]      0          False     \\n______________________________________________________________________\\nConv2d               [80, 192, 6, 6]      331776     True      \\n______________________________________________________________________\\nBatchNorm2d          [80, 192, 6, 6]      384        True      \\n______________________________________________________________________\\nLeakyReLU            [80, 192, 6, 6]      0          False     \\n______________________________________________________________________\\nConv2d               [80, 256, 6, 6]      221184     True      \\n______________________________________________________________________\\nTanh                 [80, 256, 6, 6]      0          False     \\n______________________________________________________________________\\nAdaptiveAvgPool2d    [80, 256, 1, 1]      0          False     \\n______________________________________________________________________\\nAdaptiveMaxPool2d    [80, 256, 1, 1]      0          False     \\n______________________________________________________________________\\nFlatten              [80, 512]            0          False     \\n______________________________________________________________________\\nDropout              [80, 512]            0          False     \\n______________________________________________________________________\\nLinear               [80, 256]            131328     True      \\n______________________________________________________________________\\nDropout              [80, 256]            0          False     \\n______________________________________________________________________\\nLeakyReLU            [80, 256]            0          False     \\n______________________________________________________________________\\nLinear               [80, 102]            26214      True      \\n______________________________________________________________________\\n\\nTotal params: 1865580\\nTotal trainable params: 1865580\\nTotal non-trainable params: 0\\n'"
      ]
     },
     "execution_count": 48,
     "metadata": {},
     "output_type": "execute_result"
    }
   ],
   "source": [
    "learner.summary()"
   ]
  },
  {
   "cell_type": "raw",
   "metadata": {},
   "source": [
    "======================================================================\n",
    "Layer (type)         Output Shape         Param #    Trainable \n",
    "======================================================================\n",
    "BatchNorm2d          [80, 3, 192, 192]    6          True      \n",
    "Conv2d               [80, 64, 96, 96]     9408       True      \n",
    "MaxPool2d            [80, 64, 48, 48]     0          False     \n",
    "BatchNorm2d          [80, 64, 48, 48]     128        True      \n",
    "LeakyReLU            [80, 64, 48, 48]     0          False\n",
    "Conv2d               [80, 64, 48, 48]     36864      True      \n",
    "BatchNorm2d          [80, 64, 48, 48]     128        True      \n",
    "LeakyReLU            [80, 64, 48, 48]     0          False     \n",
    "Conv2d               [80, 64, 48, 48]     36864      True      \n",
    "BatchNorm2d          [80, 64, 48, 48]     128        True      \n",
    "LeakyReLU            [80, 64, 48, 48]     0          False     \n",
    "Conv2d               [80, 96, 48, 48]     55296      True      \n",
    "MaxPool2d            [80, 96, 24, 24]     0          False     \n",
    "BatchNorm2d          [80, 96, 24, 24]     192        True      \n",
    "LeakyReLU            [80, 96, 24, 24]     0          False     \n",
    "Conv2d               [80, 96, 24, 24]     82944      True      \n",
    "BatchNorm2d          [80, 96, 24, 24]     192        True      \n",
    "LeakyReLU            [80, 96, 24, 24]     0          False     \n",
    "Conv2d               [80, 96, 24, 24]     82944      True      \n",
    "BatchNorm2d          [80, 96, 24, 24]     192        True      \n",
    "LeakyReLU            [80, 96, 24, 24]     0          False     \n",
    "Conv2d               [80, 128, 24, 24]    110592     True      \n",
    "MaxPool2d            [80, 128, 12, 12]    0          False     \n",
    "BatchNorm2d          [80, 128, 12, 12]    256        True      \n",
    "LeakyReLU            [80, 128, 12, 12]    0          False     \n",
    "Conv2d               [80, 128, 12, 12]    147456     True      \n",
    "BatchNorm2d          [80, 128, 12, 12]    256        True      \n",
    "LeakyReLU            [80, 128, 12, 12]    0          False     \n",
    "Conv2d               [80, 128, 12, 12]    147456     True      \n",
    "BatchNorm2d          [80, 128, 12, 12]    256        True      \n",
    "LeakyReLU            [80, 128, 12, 12]    0          False     \n",
    "Conv2d               [80, 192, 12, 12]    110592     True      \n",
    "MaxPool2d            [80, 192, 6, 6]      0          False     \n",
    "BatchNorm2d          [80, 192, 6, 6]      384        True      \n",
    "LeakyReLU            [80, 192, 6, 6]      0          False     \n",
    "Conv2d               [80, 192, 6, 6]      331776     True      \n",
    "BatchNorm2d          [80, 192, 6, 6]      384        True      \n",
    "LeakyReLU            [80, 192, 6, 6]      0          False     \n",
    "Conv2d               [80, 192, 6, 6]      331776     True      \n",
    "BatchNorm2d          [80, 192, 6, 6]      384        True      \n",
    "LeakyReLU            [80, 192, 6, 6]      0          False     \n",
    "Conv2d               [80, 256, 6, 6]      221184     True      \n",
    "Tanh                 [80, 256, 6, 6]      0          False     \n",
    "AdaptiveAvgPool2d    [80, 256, 1, 1]      0          False     \n",
    "AdaptiveMaxPool2d    [80, 256, 1, 1]      0          False     \n",
    "Flatten              [80, 512]            0          False     \n",
    "Dropout              [80, 512]            0          False     \n",
    "Linear               [80, 256]            131328     True      \n",
    "Dropout              [80, 256]            0          False     \n",
    "LeakyReLU            [80, 256]            0          False     \n",
    "Linear               [80, 102]            26214      True      \n",
    "Total params: 1865580\n",
    "Total trainable params: 1865580\n",
    "Total non-trainable params: 0"
   ]
  },
  {
   "cell_type": "code",
   "execution_count": 49,
   "metadata": {},
   "outputs": [
    {
     "name": "stdout",
     "output_type": "stream",
     "text": [
      "LR Finder is complete, type {learner_name}.recorder.plot() to see the graph.\n"
     ]
    },
    {
     "data": {
      "image/png": "[encoded data removed]",
      "text/plain": [
       "<Figure size 432x288 with 1 Axes>"
      ]
     },
     "metadata": {
      "needs_background": "light"
     },
     "output_type": "display_data"
    }
   ],
   "source": [
    "learner.lr_find(); learner.recorder.plot()"
   ]
  },
  {
   "cell_type": "code",
   "execution_count": 50,
   "metadata": {},
   "outputs": [
    {
     "data": {
      "text/html": [
       "Total time: 04:01 <p><table style='width:300px; margin-bottom:10px'>\n",
       "  <tr>\n",
       "    <th>epoch</th>\n",
       "    <th>train_loss</th>\n",
       "    <th>valid_loss</th>\n",
       "    <th>accuracy</th>\n",
       "  </tr>\n",
       "  <tr>\n",
       "    <th>1</th>\n",
       "    <th>4.097019</th>\n",
       "    <th>3.991101</th>\n",
       "    <th>0.059289</th>\n",
       "  </tr>\n",
       "  <tr>\n",
       "    <th>2</th>\n",
       "    <th>3.699608</th>\n",
       "    <th>3.488452</th>\n",
       "    <th>0.134387</th>\n",
       "  </tr>\n",
       "  <tr>\n",
       "    <th>3</th>\n",
       "    <th>3.426150</th>\n",
       "    <th>3.229809</th>\n",
       "    <th>0.132411</th>\n",
       "  </tr>\n",
       "  <tr>\n",
       "    <th>4</th>\n",
       "    <th>3.104651</th>\n",
       "    <th>2.761539</th>\n",
       "    <th>0.264822</th>\n",
       "  </tr>\n",
       "  <tr>\n",
       "    <th>5</th>\n",
       "    <th>2.830434</th>\n",
       "    <th>2.613357</th>\n",
       "    <th>0.302372</th>\n",
       "  </tr>\n",
       "</table>\n"
      ],
      "text/plain": [
       "<IPython.core.display.HTML object>"
      ]
     },
     "metadata": {},
     "output_type": "display_data"
    }
   ],
   "source": [
    "learner.fit_one_cycle(5,8e-3)"
   ]
  },
  {
   "cell_type": "code",
   "execution_count": 51,
   "metadata": {},
   "outputs": [
    {
     "name": "stdout",
     "output_type": "stream",
     "text": [
      "LR Finder is complete, type {learner_name}.recorder.plot() to see the graph.\n"
     ]
    },
    {
     "data": {
      "image/png": "[encoded data removed]",
      "text/plain": [
       "<Figure size 432x288 with 1 Axes>"
      ]
     },
     "metadata": {
      "needs_background": "light"
     },
     "output_type": "display_data"
    }
   ],
   "source": [
    "learner.lr_find(); learner.recorder.plot()"
   ]
  },
  {
   "cell_type": "code",
   "execution_count": 52,
   "metadata": {},
   "outputs": [
    {
     "data": {
      "text/html": [
       "Total time: 08:06 <p><table style='width:300px; margin-bottom:10px'>\n",
       "  <tr>\n",
       "    <th>epoch</th>\n",
       "    <th>train_loss</th>\n",
       "    <th>valid_loss</th>\n",
       "    <th>accuracy</th>\n",
       "  </tr>\n",
       "  <tr>\n",
       "    <th>1</th>\n",
       "    <th>2.735577</th>\n",
       "    <th>2.583660</th>\n",
       "    <th>0.322134</th>\n",
       "  </tr>\n",
       "  <tr>\n",
       "    <th>2</th>\n",
       "    <th>2.716100</th>\n",
       "    <th>2.541962</th>\n",
       "    <th>0.335968</th>\n",
       "  </tr>\n",
       "  <tr>\n",
       "    <th>3</th>\n",
       "    <th>2.677280</th>\n",
       "    <th>2.471160</th>\n",
       "    <th>0.318182</th>\n",
       "  </tr>\n",
       "  <tr>\n",
       "    <th>4</th>\n",
       "    <th>2.569270</th>\n",
       "    <th>2.272358</th>\n",
       "    <th>0.359684</th>\n",
       "  </tr>\n",
       "  <tr>\n",
       "    <th>5</th>\n",
       "    <th>2.472403</th>\n",
       "    <th>2.222190</th>\n",
       "    <th>0.373518</th>\n",
       "  </tr>\n",
       "  <tr>\n",
       "    <th>6</th>\n",
       "    <th>2.371817</th>\n",
       "    <th>2.087164</th>\n",
       "    <th>0.399209</th>\n",
       "  </tr>\n",
       "  <tr>\n",
       "    <th>7</th>\n",
       "    <th>2.261433</th>\n",
       "    <th>1.995647</th>\n",
       "    <th>0.411067</th>\n",
       "  </tr>\n",
       "  <tr>\n",
       "    <th>8</th>\n",
       "    <th>2.209196</th>\n",
       "    <th>1.942661</th>\n",
       "    <th>0.440711</th>\n",
       "  </tr>\n",
       "  <tr>\n",
       "    <th>9</th>\n",
       "    <th>2.143509</th>\n",
       "    <th>1.904836</th>\n",
       "    <th>0.444664</th>\n",
       "  </tr>\n",
       "  <tr>\n",
       "    <th>10</th>\n",
       "    <th>2.115278</th>\n",
       "    <th>1.897693</th>\n",
       "    <th>0.438735</th>\n",
       "  </tr>\n",
       "</table>\n"
      ],
      "text/plain": [
       "<IPython.core.display.HTML object>"
      ]
     },
     "metadata": {},
     "output_type": "display_data"
    }
   ],
   "source": [
    "learner.fit_one_cycle(10, 1e-3)"
   ]
  },
  {
   "cell_type": "code",
   "execution_count": 53,
   "metadata": {},
   "outputs": [
    {
     "name": "stdout",
     "output_type": "stream",
     "text": [
      "LR Finder is complete, type {learner_name}.recorder.plot() to see the graph.\n"
     ]
    },
    {
     "data": {
      "image/png": "[encoded data removed]",
      "text/plain": [
       "<Figure size 432x288 with 1 Axes>"
      ]
     },
     "metadata": {
      "needs_background": "light"
     },
     "output_type": "display_data"
    }
   ],
   "source": [
    "learner.lr_find(); learner.recorder.plot()"
   ]
  },
  {
   "cell_type": "code",
   "execution_count": 54,
   "metadata": {},
   "outputs": [
    {
     "data": {
      "text/html": [
       "Total time: 08:09 <p><table style='width:300px; margin-bottom:10px'>\n",
       "  <tr>\n",
       "    <th>epoch</th>\n",
       "    <th>train_loss</th>\n",
       "    <th>valid_loss</th>\n",
       "    <th>accuracy</th>\n",
       "  </tr>\n",
       "  <tr>\n",
       "    <th>1</th>\n",
       "    <th>2.132805</th>\n",
       "    <th>1.922086</th>\n",
       "    <th>0.446640</th>\n",
       "  </tr>\n",
       "  <tr>\n",
       "    <th>2</th>\n",
       "    <th>2.194335</th>\n",
       "    <th>2.059858</th>\n",
       "    <th>0.407115</th>\n",
       "  </tr>\n",
       "  <tr>\n",
       "    <th>3</th>\n",
       "    <th>2.272529</th>\n",
       "    <th>2.186700</th>\n",
       "    <th>0.381423</th>\n",
       "  </tr>\n",
       "  <tr>\n",
       "    <th>4</th>\n",
       "    <th>2.196688</th>\n",
       "    <th>2.160845</th>\n",
       "    <th>0.413043</th>\n",
       "  </tr>\n",
       "  <tr>\n",
       "    <th>5</th>\n",
       "    <th>2.098623</th>\n",
       "    <th>1.832508</th>\n",
       "    <th>0.450593</th>\n",
       "  </tr>\n",
       "  <tr>\n",
       "    <th>6</th>\n",
       "    <th>1.974584</th>\n",
       "    <th>1.775446</th>\n",
       "    <th>0.468379</th>\n",
       "  </tr>\n",
       "  <tr>\n",
       "    <th>7</th>\n",
       "    <th>1.851166</th>\n",
       "    <th>1.687238</th>\n",
       "    <th>0.500000</th>\n",
       "  </tr>\n",
       "  <tr>\n",
       "    <th>8</th>\n",
       "    <th>1.743793</th>\n",
       "    <th>1.543222</th>\n",
       "    <th>0.525692</th>\n",
       "  </tr>\n",
       "  <tr>\n",
       "    <th>9</th>\n",
       "    <th>1.652952</th>\n",
       "    <th>1.479698</th>\n",
       "    <th>0.559289</th>\n",
       "  </tr>\n",
       "  <tr>\n",
       "    <th>10</th>\n",
       "    <th>1.606088</th>\n",
       "    <th>1.468220</th>\n",
       "    <th>0.553360</th>\n",
       "  </tr>\n",
       "</table>\n"
      ],
      "text/plain": [
       "<IPython.core.display.HTML object>"
      ]
     },
     "metadata": {},
     "output_type": "display_data"
    }
   ],
   "source": [
    "learner.fit_one_cycle(10, 2e-3)"
   ]
  },
  {
   "cell_type": "code",
   "execution_count": 55,
   "metadata": {},
   "outputs": [
    {
     "name": "stdout",
     "output_type": "stream",
     "text": [
      "LR Finder is complete, type {learner_name}.recorder.plot() to see the graph.\n"
     ]
    },
    {
     "data": {
      "image/png": "[encoded data removed]",
      "text/plain": [
       "<Figure size 432x288 with 1 Axes>"
      ]
     },
     "metadata": {
      "needs_background": "light"
     },
     "output_type": "display_data"
    }
   ],
   "source": [
    "learner.lr_find(); learner.recorder.plot()"
   ]
  },
  {
   "cell_type": "code",
   "execution_count": 56,
   "metadata": {},
   "outputs": [
    {
     "data": {
      "text/html": [
       "Total time: 06:29 <p><table style='width:300px; margin-bottom:10px'>\n",
       "  <tr>\n",
       "    <th>epoch</th>\n",
       "    <th>train_loss</th>\n",
       "    <th>valid_loss</th>\n",
       "    <th>accuracy</th>\n",
       "  </tr>\n",
       "  <tr>\n",
       "    <th>1</th>\n",
       "    <th>1.592406</th>\n",
       "    <th>1.470666</th>\n",
       "    <th>0.553360</th>\n",
       "  </tr>\n",
       "  <tr>\n",
       "    <th>2</th>\n",
       "    <th>1.657912</th>\n",
       "    <th>1.583488</th>\n",
       "    <th>0.537549</th>\n",
       "  </tr>\n",
       "  <tr>\n",
       "    <th>3</th>\n",
       "    <th>1.693929</th>\n",
       "    <th>1.633249</th>\n",
       "    <th>0.523715</th>\n",
       "  </tr>\n",
       "  <tr>\n",
       "    <th>4</th>\n",
       "    <th>1.651361</th>\n",
       "    <th>1.533985</th>\n",
       "    <th>0.541502</th>\n",
       "  </tr>\n",
       "  <tr>\n",
       "    <th>5</th>\n",
       "    <th>1.571359</th>\n",
       "    <th>1.393005</th>\n",
       "    <th>0.584980</th>\n",
       "  </tr>\n",
       "  <tr>\n",
       "    <th>6</th>\n",
       "    <th>1.483645</th>\n",
       "    <th>1.354133</th>\n",
       "    <th>0.584980</th>\n",
       "  </tr>\n",
       "  <tr>\n",
       "    <th>7</th>\n",
       "    <th>1.411529</th>\n",
       "    <th>1.301276</th>\n",
       "    <th>0.588933</th>\n",
       "  </tr>\n",
       "  <tr>\n",
       "    <th>8</th>\n",
       "    <th>1.370319</th>\n",
       "    <th>1.296842</th>\n",
       "    <th>0.620553</th>\n",
       "  </tr>\n",
       "</table>\n"
      ],
      "text/plain": [
       "<IPython.core.display.HTML object>"
      ]
     },
     "metadata": {},
     "output_type": "display_data"
    }
   ],
   "source": [
    "learner.fit_one_cycle(8, 1e-3)"
   ]
  },
  {
   "cell_type": "markdown",
   "metadata": {},
   "source": [
    "Como ya llegamos al accuracy que se nos pide, guardamos el modelo"
   ]
  },
  {
   "cell_type": "code",
   "execution_count": 58,
   "metadata": {},
   "outputs": [],
   "source": [
    "learner.save('manual-resnet62')"
   ]
  },
  {
   "cell_type": "code",
   "execution_count": 59,
   "metadata": {},
   "outputs": [
    {
     "data": {
      "text/html": [
       "Total time: 06:33 <p><table style='width:300px; margin-bottom:10px'>\n",
       "  <tr>\n",
       "    <th>epoch</th>\n",
       "    <th>train_loss</th>\n",
       "    <th>valid_loss</th>\n",
       "    <th>accuracy</th>\n",
       "  </tr>\n",
       "  <tr>\n",
       "    <th>1</th>\n",
       "    <th>1.354857</th>\n",
       "    <th>1.377383</th>\n",
       "    <th>0.584980</th>\n",
       "  </tr>\n",
       "  <tr>\n",
       "    <th>2</th>\n",
       "    <th>1.422372</th>\n",
       "    <th>1.390977</th>\n",
       "    <th>0.579051</th>\n",
       "  </tr>\n",
       "  <tr>\n",
       "    <th>3</th>\n",
       "    <th>1.458832</th>\n",
       "    <th>1.553877</th>\n",
       "    <th>0.543478</th>\n",
       "  </tr>\n",
       "  <tr>\n",
       "    <th>4</th>\n",
       "    <th>1.408418</th>\n",
       "    <th>1.380068</th>\n",
       "    <th>0.588933</th>\n",
       "  </tr>\n",
       "  <tr>\n",
       "    <th>5</th>\n",
       "    <th>1.363174</th>\n",
       "    <th>1.317883</th>\n",
       "    <th>0.583004</th>\n",
       "  </tr>\n",
       "  <tr>\n",
       "    <th>6</th>\n",
       "    <th>1.282569</th>\n",
       "    <th>1.204461</th>\n",
       "    <th>0.618577</th>\n",
       "  </tr>\n",
       "  <tr>\n",
       "    <th>7</th>\n",
       "    <th>1.220590</th>\n",
       "    <th>1.185251</th>\n",
       "    <th>0.626482</th>\n",
       "  </tr>\n",
       "  <tr>\n",
       "    <th>8</th>\n",
       "    <th>1.176774</th>\n",
       "    <th>1.176781</th>\n",
       "    <th>0.642292</th>\n",
       "  </tr>\n",
       "</table>\n"
      ],
      "text/plain": [
       "<IPython.core.display.HTML object>"
      ]
     },
     "metadata": {},
     "output_type": "display_data"
    }
   ],
   "source": [
    "learner.fit_one_cycle(8,8e-4) #este nos da un ligero mejor resultado"
   ]
  },
  {
   "cell_type": "code",
   "execution_count": 60,
   "metadata": {},
   "outputs": [],
   "source": [
    "learner.save('manual-resnet64')"
   ]
  },
  {
   "cell_type": "markdown",
   "metadata": {},
   "source": [
    "# Conclusiones\n",
    "\n",
    "Como fue obvio, crear una red neuronal desde cero es bastante complicado y pesado. Sobre todo a la hora de ver qué le podíamos optmizar, el learning rate más adecuado, el número de parametros etc.\n",
    "\n",
    "En resumen, es muy complicado hacer redes artesanalmente ya que tenemos que ir checando paso por paso cómo está trabajando y qué se le puede mejorar. \n",
    "\n",
    "Mejor hay que usar redes preentrenadas en la vida real."
   ]
  },
  {
   "cell_type": "code",
   "execution_count": null,
   "metadata": {},
   "outputs": [],
   "source": []
  }
 ],
 "metadata": {
  "kernelspec": {
   "display_name": "Python 3",
   "language": "python",
   "name": "python3"
  },
  "language_info": {
   "codemirror_mode": {
    "name": "ipython",
    "version": 3
   },
   "file_extension": ".py",
   "mimetype": "text/x-python",
   "name": "python",
   "nbconvert_exporter": "python",
   "pygments_lexer": "ipython3",
   "version": "3.6.8"
  }
 },
 "nbformat": 4,
 "nbformat_minor": 2
}
